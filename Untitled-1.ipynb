{
 "cells": [
  {
   "cell_type": "code",
   "execution_count": null,
   "metadata": {},
   "outputs": [],
   "source": [
    "import pandas as pd\n",
    "from sklearn.tree import DecisionTreeClassifier\n",
    "from sklearn.model_selection import train_test_split\n",
    "from sklearn.metrics import accuracy_score\n",
    "import joblib\n",
    "\n",
    "music_data = pd.read_csv('music.csv')\n",
    "# input\n",
    "X = music_data.drop(columns=['genre'])\n",
    "# output\n",
    "y = music_data['genre']\n",
    "\n",
    "X_train, X_test, y_train, y_test = train_test_split(X, y, test_size=0.2)\n",
    "# # we are allocating 20% of the data for testing and 80% for training\n",
    "# # the function picks randomly data for testing and training\n",
    "# # the more data we give we'll get the cleaner result\n",
    "\n",
    "model = DecisionTreeClassifier()\n",
    "# # train the model\n",
    "model.fit(X_train, y_train)\n",
    "\n",
    "# save the model \n",
    "joblib.dump(model, 'music-recommender.joblib')\n",
    "\n",
    "# load the model \n",
    "# model = joblib.load('music-recommender.joblib')\n",
    "\n",
    "# make predictions\n",
    "predictions = model.predict([[21,1]])\n",
    "predictions\n",
    "\n",
    "# to calculate accuracy we pass expected values and the result of the prediction\n",
    "# score = accuracy_score(y_test, predictions)\n",
    "\n"
   ]
  }
 ],
 "metadata": {
  "kernelspec": {
   "display_name": "base",
   "language": "python",
   "name": "python3"
  },
  "language_info": {
   "codemirror_mode": {
    "name": "ipython",
    "version": 3
   },
   "file_extension": ".py",
   "mimetype": "text/x-python",
   "name": "python",
   "nbconvert_exporter": "python",
   "pygments_lexer": "ipython3",
   "version": "3.9.13"
  },
  "orig_nbformat": 4,
  "vscode": {
   "interpreter": {
    "hash": "63bc4d6a81cda7db2054749e78f23e375fb2384dbd2605a8f3d07b2f40f76a86"
   }
  }
 },
 "nbformat": 4,
 "nbformat_minor": 2
}
